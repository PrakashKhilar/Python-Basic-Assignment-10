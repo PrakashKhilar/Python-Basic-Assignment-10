{
 "cells": [
  {
   "cell_type": "markdown",
   "id": "6456e93b",
   "metadata": {},
   "source": [
    "# Programming Assignment_10"
   ]
  },
  {
   "cell_type": "code",
   "execution_count": 1,
   "id": "3748975f",
   "metadata": {},
   "outputs": [],
   "source": [
    "# Q1.Write a Python Program to find sum of elements in a list ?"
   ]
  },
  {
   "cell_type": "code",
   "execution_count": 4,
   "id": "1a63b740",
   "metadata": {},
   "outputs": [
    {
     "name": "stdout",
     "output_type": "stream",
     "text": [
      "Enter the No of Entries in a List: 4\n",
      "Enter a element: 3\n",
      "Enter a element: 2\n",
      "Enter a element: 1\n",
      "Enter a element: 0\n",
      "Sum of Elements: 6\n"
     ]
    }
   ],
   "source": [
    "# Ans;\n",
    "\n",
    "def sumofList():\n",
    "    in_ele = int(input('Enter the No of Entries in a List: '))\n",
    "    in_list = []\n",
    "    for itr in range(in_ele):\n",
    "        in_list.append(int(input('Enter a element: ')))\n",
    "    print(f'Sum of Elements: {sum(in_list)}')\n",
    "\n",
    "sumofList()"
   ]
  },
  {
   "cell_type": "code",
   "execution_count": 5,
   "id": "a75373bb",
   "metadata": {},
   "outputs": [],
   "source": [
    "# Q2.Write a Python Program to multiply all numbers in the list ?"
   ]
  },
  {
   "cell_type": "code",
   "execution_count": 7,
   "id": "f872ac4a",
   "metadata": {},
   "outputs": [
    {
     "name": "stdout",
     "output_type": "stream",
     "text": [
      "Enter the No of Entries in a List: 3\n",
      "Enter a element: 4\n",
      "Enter a element: 3\n",
      "Enter a element: 2\n",
      "24\n"
     ]
    }
   ],
   "source": [
    "# Ans;\n",
    "\n",
    "def mulofList():\n",
    "    in_ele = int(input('Enter the No of Entries in a List: '))\n",
    "    in_list = []\n",
    "    mul = 1\n",
    "    for itr in range(in_ele):\n",
    "        in_list.append(int(input('Enter a element: ')))\n",
    "    for ele in in_list:\n",
    "        mul = mul * ele\n",
    "    print(mul)\n",
    "\n",
    "mulofList()\n"
   ]
  },
  {
   "cell_type": "code",
   "execution_count": 8,
   "id": "83ab96e1",
   "metadata": {},
   "outputs": [],
   "source": [
    "# Q3.Write a Python Program to find smallest number in the list ?"
   ]
  },
  {
   "cell_type": "code",
   "execution_count": 9,
   "id": "019ba887",
   "metadata": {},
   "outputs": [
    {
     "name": "stdout",
     "output_type": "stream",
     "text": [
      "Enter the No of elements in a list: 4\n",
      "Enter a Element: 3\n",
      "Enter a Element: 2\n",
      "Enter a Element: 1\n",
      "Enter a Element: 0\n",
      "The Smallest Element in [3, 2, 1, 0] is 0\n"
     ]
    }
   ],
   "source": [
    "# Ans;\n",
    "\n",
    "def smallEleInList():\n",
    "    in_ele = int(input('Enter the No of elements in a list: '))\n",
    "    in_list = []\n",
    "    for ele in range(in_ele):\n",
    "        in_list.append(int(input('Enter a Element: ')))\n",
    "    print(f'The Smallest Element in {in_list} is {sorted(in_list)[0]}')\n",
    "smallEleInList()"
   ]
  },
  {
   "cell_type": "code",
   "execution_count": 10,
   "id": "7b9b0311",
   "metadata": {},
   "outputs": [],
   "source": [
    "# Q4.Write a Python Program to find largest number in the list ?"
   ]
  },
  {
   "cell_type": "code",
   "execution_count": 11,
   "id": "6d35e7c7",
   "metadata": {},
   "outputs": [
    {
     "name": "stdout",
     "output_type": "stream",
     "text": [
      "Enter the No of elements in a list: 4\n",
      "Enter a Element: 3\n",
      "Enter a Element: 2\n",
      "Enter a Element: 1\n",
      "Enter a Element: 0\n",
      "The Largest Element in [3, 2, 1, 0] is 3\n"
     ]
    }
   ],
   "source": [
    "# Ans;\n",
    "\n",
    "def largestEleInList():\n",
    "    in_ele = int(input('Enter the No of elements in a list: '))\n",
    "    in_list = []\n",
    "    for ele in range(in_ele):\n",
    "        in_list.append(int(input('Enter a Element: ')))\n",
    "    print(f'The Largest Element in {in_list} is {sorted(in_list, reverse=True)[0]}')\n",
    "\n",
    "largestEleInList()"
   ]
  },
  {
   "cell_type": "code",
   "execution_count": 12,
   "id": "83272498",
   "metadata": {},
   "outputs": [],
   "source": [
    "# Q5.Write a Python Program to find second largest number in the list ?"
   ]
  },
  {
   "cell_type": "code",
   "execution_count": 13,
   "id": "671fd757",
   "metadata": {},
   "outputs": [
    {
     "name": "stdout",
     "output_type": "stream",
     "text": [
      "Enter the No of elements in a list: 4\n",
      "Enter a Element: 3\n",
      "Enter a Element: 2\n",
      "Enter a Element: 1\n",
      "Enter a Element: 0\n",
      "The Second Largest Element in [3, 2, 1, 0] is 2\n"
     ]
    }
   ],
   "source": [
    "# Ans;\n",
    "\n",
    "def secondLargestEleInList():\n",
    "    in_ele = int(input('Enter the No of elements in a list: '))\n",
    "    in_list = []\n",
    "    for ele in range(in_ele):\n",
    "        in_list.append(int(input('Enter a Element: ')))\n",
    "    print(f'The Second Largest Element in {in_list} is {sorted(in_list, reverse=True)[1]}')\n",
    "\n",
    "secondLargestEleInList()"
   ]
  },
  {
   "cell_type": "code",
   "execution_count": 14,
   "id": "3a6acde7",
   "metadata": {},
   "outputs": [],
   "source": [
    "# Q6.Write a Python Program to find N largest elements in the list ?"
   ]
  },
  {
   "cell_type": "code",
   "execution_count": 15,
   "id": "5e09fa0a",
   "metadata": {},
   "outputs": [
    {
     "name": "stdout",
     "output_type": "stream",
     "text": [
      "Enter the No of elements in a list: 4\n",
      "Enter a Element: 3\n",
      "Enter a Element: 2\n",
      "Enter a Element: 1\n",
      "Enter a Element: 0\n",
      "The 4 Largest Element in [3, 2, 1, 0] is [3, 2, 1, 0]\n"
     ]
    }
   ],
   "source": [
    "# Ans;\n",
    "\n",
    "def nLargestEleInList(k):\n",
    "    in_ele = int(input('Enter the No of elements in a list: '))\n",
    "    in_list = []\n",
    "    for ele in range(in_ele):\n",
    "        in_list.append(int(input('Enter a Element: ')))\n",
    "    print(f'The {k} Largest Element in {in_list} is {sorted(in_list, reverse=True)[0:k]}')\n",
    "\n",
    "nLargestEleInList(4)"
   ]
  },
  {
   "cell_type": "code",
   "execution_count": 16,
   "id": "678e98cb",
   "metadata": {},
   "outputs": [],
   "source": [
    "# Q7.Write a Python Program to find even numbers in the list ?"
   ]
  },
  {
   "cell_type": "code",
   "execution_count": 17,
   "id": "69cd620b",
   "metadata": {},
   "outputs": [
    {
     "name": "stdout",
     "output_type": "stream",
     "text": [
      "Enter the No of elements in a list: 4\n",
      "Enter a Element: 3\n",
      "Enter a Element: 2\n",
      "Enter a Element: 1\n",
      "Enter a Element: 0\n",
      "The Even Elements in [3, 2, 1, 0] are [2, 0]\n"
     ]
    }
   ],
   "source": [
    "# Ans;\n",
    "\n",
    "def evenNoInList():\n",
    "    in_ele = int(input('Enter the No of elements in a list: '))\n",
    "    in_list = []\n",
    "    even_list = []\n",
    "    for ele in range(in_ele):\n",
    "        in_list.append(int(input('Enter a Element: ')))\n",
    "    for ele in in_list:\n",
    "        if ele%2 == 0:\n",
    "            even_list.append(ele)\n",
    "    print(f'The Even Elements in {in_list} are {even_list}')\n",
    "\n",
    "evenNoInList()"
   ]
  },
  {
   "cell_type": "code",
   "execution_count": 18,
   "id": "6710908b",
   "metadata": {},
   "outputs": [],
   "source": [
    "# Q8.Write a Python Program to find odd numbers in the list ?"
   ]
  },
  {
   "cell_type": "code",
   "execution_count": 19,
   "id": "77cfe94e",
   "metadata": {},
   "outputs": [
    {
     "name": "stdout",
     "output_type": "stream",
     "text": [
      "Enter the No of elements in a list: 4\n",
      "Enter a Element: 3\n",
      "Enter a Element: 2\n",
      "Enter a Element: 1\n",
      "Enter a Element: 0\n",
      "The Even Elements in [3, 2, 1, 0] are [3, 1]\n"
     ]
    }
   ],
   "source": [
    "# Ans;\n",
    "\n",
    "def oddNoInList():\n",
    "    in_ele = int(input('Enter the No of elements in a list: '))\n",
    "    in_list = []\n",
    "    odd_list = []\n",
    "    for ele in range(in_ele):\n",
    "        in_list.append(int(input('Enter a Element: ')))\n",
    "    for ele in in_list:\n",
    "        if ele%2 != 0:\n",
    "            odd_list.append(ele)\n",
    "    print(f'The Even Elements in {in_list} are {odd_list}')\n",
    "\n",
    "oddNoInList()"
   ]
  },
  {
   "cell_type": "code",
   "execution_count": 20,
   "id": "45420e2d",
   "metadata": {},
   "outputs": [],
   "source": [
    "# Q9.Write a Python Program to remove empty list from list ?"
   ]
  },
  {
   "cell_type": "code",
   "execution_count": 22,
   "id": "d115ff7e",
   "metadata": {},
   "outputs": [
    {
     "name": "stdout",
     "output_type": "stream",
     "text": [
      "Enter all elements of the list: [1,2,3,4,[],0,6,7,77]\n",
      "There is an Empty list in [1, 2, 3, 4, [], 0, 6, 7, 77] at Position 4\n",
      "The List after removing [] is [1, 2, 3, 4, 0, 6, 7, 77]\n"
     ]
    }
   ],
   "source": [
    "# Ans;\n",
    "\n",
    "def checkEmptyList():\n",
    "    in_list = eval(input('Enter all elements of the list: '))\n",
    "    if [] in in_list:\n",
    "        print(f'There is an Empty list in {in_list} at Position {in_list.index([])}')\n",
    "        in_list.remove([])\n",
    "        print(f'The List after removing [] is {in_list}')\n",
    "    else:\n",
    "        print(f'There is no [] List in the list {in_list}')\n",
    "        \n",
    "checkEmptyList()"
   ]
  },
  {
   "cell_type": "code",
   "execution_count": 23,
   "id": "974d1db0",
   "metadata": {},
   "outputs": [],
   "source": [
    "# Q10. Write a Python Program to Cloning or Copying a list ?"
   ]
  },
  {
   "cell_type": "code",
   "execution_count": 24,
   "id": "6744ff85",
   "metadata": {},
   "outputs": [
    {
     "name": "stdout",
     "output_type": "stream",
     "text": [
      "Enter a list[1,2,3,33,4,5,55,6,0]\n",
      "[1, 2, 3, 33, 4, 5, 55, 6, 0] 107236323776\n",
      "[1, 2, 3, 33, 4, 5, 55, 6, 0] 107236324928\n"
     ]
    }
   ],
   "source": [
    "# Ans;\n",
    "\n",
    "import copy\n",
    "\n",
    "def cloneList():\n",
    "    in_list = eval(input('Enter a list'))\n",
    "    print(in_list, id(in_list))\n",
    "    cloned_list = in_list.copy()\n",
    "    print(cloned_list, id(cloned_list))\n",
    "\n",
    "cloneList()"
   ]
  },
  {
   "cell_type": "code",
   "execution_count": 25,
   "id": "c7a8c2bb",
   "metadata": {},
   "outputs": [],
   "source": [
    "# Q11. Write a Python Program to count occurences of an element in a list ?"
   ]
  },
  {
   "cell_type": "code",
   "execution_count": 26,
   "id": "a26a170f",
   "metadata": {},
   "outputs": [
    {
     "name": "stdout",
     "output_type": "stream",
     "text": [
      "Enter the elements of the list: [1,11,2,1,22,2,3,4,1,2,11,3,4,44]\n",
      "Enter the element to find: 3\n",
      "There are 2 occurences of 3 in [1, 11, 2, 1, 22, 2, 3, 4, 1, 2, 11, 3, 4, 44]\n"
     ]
    }
   ],
   "source": [
    "# Ans;\n",
    "\n",
    "def checkOccurence():\n",
    "    in_list = eval(input('Enter the elements of the list: '))\n",
    "    in_num = eval(input('Enter the element to find: '))\n",
    "    count = 0\n",
    "    if in_num in in_list:\n",
    "        for ele in in_list:\n",
    "            if ele == in_num:\n",
    "                count = count+1\n",
    "    print(f'There are {count} occurences of {in_num} in {in_list}')\n",
    "    \n",
    "checkOccurence()"
   ]
  },
  {
   "cell_type": "code",
   "execution_count": null,
   "id": "68fc2660",
   "metadata": {},
   "outputs": [],
   "source": []
  }
 ],
 "metadata": {
  "kernelspec": {
   "display_name": "Python 3 (ipykernel)",
   "language": "python",
   "name": "python3"
  },
  "language_info": {
   "codemirror_mode": {
    "name": "ipython",
    "version": 3
   },
   "file_extension": ".py",
   "mimetype": "text/x-python",
   "name": "python",
   "nbconvert_exporter": "python",
   "pygments_lexer": "ipython3",
   "version": "3.9.12"
  }
 },
 "nbformat": 4,
 "nbformat_minor": 5
}
